{
 "cells": [
  {
   "cell_type": "markdown",
   "id": "f5b9cb96",
   "metadata": {},
   "source": [
    "# Coordinate Systems\n",
    "\n",
    "When we use a compass to measure features of interest to the structural geologist, we are\n",
    "implicitly using a spherical coordinate system defined by the rotation axis and surface of the\n",
    "Earth. Even if the Earth is almost spherical body, it is commonly more convenient to do\n",
    "structural geology calculations in rectangular Cartesian coordinates.\n",
    "\n",
    "The axes of any graph have positive and negative directions and most of us are used to seeing\n",
    "two dimensional graphs where the horizontal axis X is positive to the right and the vertical Y\n",
    "axis is positive upwards. But, what happens if we add a third axis? How do we determine the\n",
    "positive direction for that axis?\n",
    "\n",
    "The three axes of a Cartesian coordinate system are commonly referred to as $X$, $Y$, and $Z$. We\n",
    "start out the same way here because that is most familiar, but when we start talking about\n",
    "coordinate systems more formally, we will switch to using $X_1$, $X_2$, and $X_3$, which are more\n",
    "convenient for numerical calculations in a computer.\n",
    "\n",
    "## Coordinate systems in geology\n",
    "\n",
    "The angles are measured positive in a direction from the $X$ axis towards the $Y$ axis, i.e., just\n",
    "the opposite of how angles are measured on a compass rose (clockwise from the top).\n",
    "\n",
    "Convention suggests that we should follow a right-handed naming convention:\n",
    "\n",
    "Right-hand rule indicates the direction of the coordinate axes. When you hold the thumb, index finger, and middle finger of your right hand so that they form three right angles, then the thumb symbolizes the $x$ axis, the index finger the $y$ axis, and the middle finger the $z$ axis.\n",
    "\n",
    "```{image} figures/Right_hand_rule.png\n",
    ":alt: Vector projection\n",
    ":class: bg-primary mb-1\n",
    ":width: 50%\n",
    ":align: center\n",
    "```\n",
    "\n",
    "If you hold you hand so that your thumb points in the positive direction of the first axis, your fingers should\n",
    "curl from the positive direction of the second axis toward the positive direction of the third.\n",
    "\n",
    "```{image} figures/Left-Right.png\n",
    ":alt: Left-right-hand\n",
    ":class: bg-primary mb-1\n",
    ":width: 75%\n",
    ":align: center\n",
    "```\n",
    "\n",
    "The two systems are commonly adopted in geology, **East-North-Up (ENU)** and **North-East-\n",
    "Down (NED)** coordinate system.\n",
    "\n",
    "```{image} figures/Geocoord_sytems.png\n",
    ":alt: Geo-coord-systems\n",
    ":class: bg-primary mb-1\n",
    ":width: 75%\n",
    ":align: center\n",
    "```\n",
    "\n",
    "Of course it is easy to change between the two coordinate systems: A point that has coordinates\n",
    "(100, 200, 350) in an ENU system would have coordinates (200, 100, and -350) in a NED system."
   ]
  }
 ],
 "metadata": {
  "jupytext": {
   "text_representation": {
    "extension": ".md",
    "format_name": "myst",
    "format_version": 0.13,
    "jupytext_version": "1.14.0"
   }
  },
  "kernelspec": {
   "display_name": "Python 3 (ipykernel)",
   "language": "python",
   "name": "python3"
  },
  "language_info": {
   "codemirror_mode": {
    "name": "ipython",
    "version": 3
   },
   "file_extension": ".py",
   "mimetype": "text/x-python",
   "name": "python",
   "nbconvert_exporter": "python",
   "pygments_lexer": "ipython3",
   "version": "3.10.8"
  },
  "source_map": [
   12
  ]
 },
 "nbformat": 4,
 "nbformat_minor": 5
}