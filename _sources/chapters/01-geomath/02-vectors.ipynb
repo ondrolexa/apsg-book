{
 "cells": [
  {
   "cell_type": "code",
   "execution_count": 1,
   "id": "3d4deceb",
   "metadata": {
    "tags": [
     "remove-input"
    ]
   },
   "outputs": [],
   "source": [
    "import numpy as np\n",
    "import matplotlib.pyplot as plt"
   ]
  },
  {
   "cell_type": "markdown",
   "id": "7430c43a",
   "metadata": {},
   "source": [
    "# Vectors\n",
    "\n",
    "Most structural geology students have learned the basics of vectors in their math courses.\n",
    "We’ll first review those basic concepts and then put that knowledge to work because, as\n",
    "mentioned in the last chapter, most linear features that we might wish to measure in\n",
    "structural geology are vectors.\n",
    "\n",
    "Because structural geometry is three dimensional, all of our vectors will have three\n",
    "components. Each of the three numbers that define a vector refer to a specific coordinate axis:\n",
    "for example, $u_2$ (or $u_y$) is the value of our vector, $\\boldsymbol{u}$, projected onto the second axis of the\n",
    "coordinate system, $X_2$ or $Y$. In a **NED** coordinate system, $u_2$ is the projection of $\\boldsymbol{u}$ onto the\n",
    "East axis, but in an **ENU** coordinate system, $u_2$ is u projected onto the North axis. Therefore,\n",
    "the numbers that define a vector depend on the specific coordinate system. We write out\n",
    "vector as:\n",
    "\n",
    "$$\\bf{u}=\\begin{bmatrix} u_1 & u_2 & u_3 \\end{bmatrix} = \\begin{bmatrix} u_x & u_y & u_z \\end{bmatrix}$$"
   ]
  },
  {
   "cell_type": "code",
   "execution_count": 2,
   "id": "e0369e06",
   "metadata": {},
   "outputs": [],
   "source": [
    "u = np.array([2, -1, 3])"
   ]
  },
  {
   "cell_type": "markdown",
   "id": "cf70fb51",
   "metadata": {},
   "source": [
    "## Vector magnitude\n",
    "\n",
    "One of the most fundamental characteristics of a vector is its length or **magnitude**. Magnitude is a scalar quantity because it has no directional significance and furthermore, it is the same in all coordinate systems. The magnitude is given by:\n",
    "\n",
    "$$\\left | \\boldsymbol{u} \\right |=\\sqrt{{u_1}^2+{u_2}^2+{u_3}^2}$$\n",
    "\n",
    "In two dimensions, you can see that the magnitude is calculated from the Pythagorean theorem which gives the length of a hypotenuse as the square root of the sum of the squares of the two sides. The extension to three dimensions is straightforward.\n",
    "\n",
    "```{image} figures/Vec_magnitude.png\n",
    ":alt: Vector magnitude\n",
    ":class: bg-primary mb-1\n",
    ":width: 75%\n",
    ":align: center\n",
    "```"
   ]
  },
  {
   "cell_type": "code",
   "execution_count": 3,
   "id": "4d14d81b",
   "metadata": {},
   "outputs": [
    {
     "data": {
      "text/plain": [
       "3.7416573867739413"
      ]
     },
     "execution_count": 3,
     "metadata": {},
     "output_type": "execute_result"
    }
   ],
   "source": [
    "np.linalg.norm(u)"
   ]
  },
  {
   "cell_type": "markdown",
   "id": "ea0d9260",
   "metadata": {},
   "source": [
    "## Unit vector\n",
    "\n",
    "```{image} figures/3D_Vector.png\n",
    ":alt: 3D vector\n",
    ":class: bg-primary mb-1\n",
    ":width: 35%\n",
    ":align: center\n",
    "```\n",
    "\n",
    "But, what if we don’t care about the magnitude? What if we are only interested in the orientation of our vector? It is convenient to represent direction by \\textbf{unit vector}, i.e. the vector with length of one.\n",
    "Any vector could be normalized to \\textbf{unit vector} by dividing each of it's components by its magnitude.\n",
    "\n",
    "$${\\boldsymbol{\\hat u}} = \\frac{{\\boldsymbol{u}}}{{\\left\\| {\\boldsymbol{u}} \\right\\|}} = {\\boldsymbol{i}}\\frac{{{u_1}}}{{\\left\\| {\\boldsymbol{u}} \\right\\|}} + {\\boldsymbol{j}}\\frac{{{u_2}}}{{\\left\\| {\\boldsymbol{u}} \\right\\|}} + {\\boldsymbol{k}}\\frac{{{u_3}}}{{\\left\\| {\\boldsymbol{u}} \\right\\|}}$$\n",
    "\n",
    "The projection of a unit vector onto a coordinate axis is just equal to the cosine of the angle that the vector makes with that axis.\n",
    "\n",
    "Thus, the components of a unit vector are:\n",
    "\n",
    "$${\\boldsymbol{\\hat u}} = \\begin{bmatrix} \\cos (\\alpha ) & \\cos (\\beta ) & \\cos (\\gamma ) \\end{bmatrix}$$\n",
    "\n",
    "## Vector addition, subtraction and scalar multiplication\n",
    "\n",
    "Vector addition or subtraction from another is no more complicated than adding, or subtracting, the individual components:\n",
    "\n",
    "$$\\bf{u+v}=\\begin{bmatrix} u_1 & u_2 & u_3 \\end{bmatrix}+\\begin{bmatrix} v_1 & v_2 & v_3\\end{bmatrix}=\\begin{bmatrix} (u_1+v_1) & (u_2+v_2) & (u_3+v_3) \\end{bmatrix}$$\n",
    "\n",
    "And likewise\n",
    "\n",
    "$$\\bf{u-v}=\\begin{bmatrix} u_1 & u_2 & u_3 \\end{bmatrix}-\\begin{bmatrix} v_1 & v_2 & v_3\\end{bmatrix}=\\begin{bmatrix} (u_1-v_1) & (u_2-v_2) & (u_3-v_3) \\end{bmatrix}$$\n",
    "\n",
    "```{image} figures/Vec_add_sub.png\n",
    ":alt: Vector addition and subtraction\n",
    ":class: bg-primary mb-1\n",
    ":width: 75%\n",
    ":align: center\n",
    "```\n",
    "\n",
    "## Dot product\n",
    "\n",
    "**Dot product** or **scalar product** is an algebraic operation between two vectors. The dot product may be defined algebraically or geometrically. Conceptually, **dot product** can be thought of as multiplying the length of one vector by the *component of the other vector* which is parallel to the first:\n",
    "\n",
    "Geometrically, it is the product of the magnitudes of the two vectors and the cosine of the angle between them.\n",
    "\n",
    "$$\\boldsymbol u\\cdot\\boldsymbol v = \\|\\boldsymbol u\\|\\,\\|\\boldsymbol v\\|\\cos\\theta$$\n",
    "\n",
    "Algebraically, it is the sum of the products of the corresponding entries of the two sequences of numbers.\n",
    "\n",
    "$$\\boldsymbol{u}\\cdot \\boldsymbol{v} = \\sum_{i=1}^n u_iv_i = u_1v_1 + u_2v_2 + \\cdots + u_nv_n$$\n",
    "\n",
    "Two vectors are orthogonal if the dot product of those two vectors is equal to zero.\n",
    "\n",
    "## Vector projection\n",
    "\n",
    "The**vector projection** of a vector $\\boldsymbol{u}$ on a nonzero vector $\\boldsymbol{v}$ (also known as the *vector component* of $\\boldsymbol{u}$ in the direction of $\\boldsymbol{u}$) is the orthogonal projection of $\\boldsymbol{u}$ onto a straight line parallel to $\\boldsymbol{v}$. It is a vector parallel to $\\boldsymbol{v}$, defined as:\n",
    "\n",
    "```{image} figures/Dot_Product.png\n",
    ":alt: Vector projection\n",
    ":class: bg-primary mb-1\n",
    ":width: 35%\n",
    ":align: center\n",
    "```\n",
    "\n",
    "$$\\boldsymbol{u}_1 = u_1\\boldsymbol{\\hat v} = u_1\\frac {\\boldsymbol{v}} {\\|\\boldsymbol{v}\\|},$$\n",
    "\n",
    "where $u_1$ is **scalar projection**. Using definition of cosine in right-angled triangle and **dot product** definition, we can write:\n",
    "\n",
    "$$u_1 = \\|\\boldsymbol{u}\\| \\cos \\theta = \\frac {\\boldsymbol{u} \\cdot \\boldsymbol{v}} {\\|\\boldsymbol{v}\\| }$$\n",
    "\n",
    "Consequently,\n",
    "\n",
    "$$\\boldsymbol{u}_1 = u_1\\frac {\\boldsymbol{v}} {\\|\\boldsymbol{v}\\|} = \\frac {\\boldsymbol{u} \\cdot \\boldsymbol{v}} {\\|\\boldsymbol{v}\\| } \\frac {\\boldsymbol{v}} {\\|\\boldsymbol{v}\\|} = \\frac {\\boldsymbol{u} \\cdot \\boldsymbol{v}} {\\|\\boldsymbol{v}\\|^2}{\\boldsymbol{v}} = \\frac {\\boldsymbol{u} \\cdot \\boldsymbol{v}} {\\boldsymbol{v} \\cdot \\boldsymbol{v}}{\\boldsymbol{v}}$$\n",
    "\n",
    "## Cross product\n",
    "\n",
    "The **cross product** $\\boldsymbol{u} \\times \\boldsymbol{v}$ is defined as a vector that is perpendicular to both $\\boldsymbol{u}$ and $\\boldsymbol{v}$, with a direction given by the right-hand rule and a magnitude equal to the area of the parallelogram that the vectors span.\n",
    "\n",
    "```{image} figures/Cross_product_vector.png\n",
    ":alt: Cross product\n",
    ":class: bg-primary mb-1\n",
    ":width: 25%\n",
    ":align: center\n",
    "```\n",
    "\n",
    "The cross product is defined by the formula\n",
    "\n",
    "$$\\boldsymbol{u} \\times \\boldsymbol{v} = \\left\\| \\boldsymbol{u} \\right\\| \\left\\| \\boldsymbol{v} \\right\\| \\sin \\theta \\ \\boldsymbol{n}$$\n",
    "\n",
    "or in **matrix notation**\n",
    "\n",
    "$$\\boldsymbol{u\\times v}=\\begin{vmatrix} \\boldsymbol{i}&\\boldsymbol{j}&\\boldsymbol{k}\\\\ u_1&u_2&u_3\\\\ v_1&v_2&v_3\\\\ \\end{vmatrix}$$\n",
    "\n",
    "The cross product is *anticommutative*\n",
    "\n",
    "$$\\boldsymbol{u} \\times \\boldsymbol{v} = -(\\boldsymbol{v} \\times \\boldsymbol{u})$$\n",
    "\n",
    "## Vectors in geology\n",
    "\n",
    "The compass measurements are commonly in **spherical coordinates** i.e. *azimuth* or *dip direction* ($\\theta$) and *dip* ($\\varphi$). To define 3D vector in Cartesian space, we use following transformations:\n",
    "\n",
    "```{image} figures/Geo_coordinates_en.png\n",
    ":alt: Coordinate transformation in geology\n",
    ":class: bg-primary mb-1\n",
    ":width: 50%\n",
    ":align: center\n",
    "```\n",
    "\n",
    "Linear features (lines) are represented as vector:\n",
    "\n",
    "$$\\begin{aligned}\n",
    "u_1&=&\\cos(\\theta)\\cos(\\varphi)\\\\\n",
    "u_2&=&\\sin(\\theta)\\cos(\\varphi)\\\\\n",
    "u_3&=&\\sin(\\varphi)\n",
    "\\end{aligned}$$\n",
    "\n",
    "Planar features (planes) are represented by normal vector:\n",
    "\n",
    "$$\\begin{aligned}\n",
    "p_1&=&-\\cos(\\theta)\\sin(\\varphi)\\\\\n",
    "p_2&=&-\\sin(\\theta)\\sin(\\varphi)\\\\\n",
    "p_3&=&\\cos(\\varphi)\n",
    "\\end{aligned}$$"
   ]
  }
 ],
 "metadata": {
  "jupytext": {
   "text_representation": {
    "extension": ".md",
    "format_name": "myst",
    "format_version": 0.13,
    "jupytext_version": "1.14.0"
   }
  },
  "kernelspec": {
   "display_name": "Python 3 (ipykernel)",
   "language": "python",
   "name": "python3"
  },
  "language_info": {
   "codemirror_mode": {
    "name": "ipython",
    "version": 3
   },
   "file_extension": ".py",
   "mimetype": "text/x-python",
   "name": "python",
   "nbconvert_exporter": "python",
   "pygments_lexer": "ipython3",
   "version": "3.10.8"
  },
  "source_map": [
   14,
   18,
   37,
   39,
   56,
   58
  ]
 },
 "nbformat": 4,
 "nbformat_minor": 5
}