{
 "cells": [
  {
   "cell_type": "code",
   "execution_count": 1,
   "id": "449ba117",
   "metadata": {
    "tags": [
     "remove-input"
    ]
   },
   "outputs": [],
   "source": [
    "from apsg import *"
   ]
  },
  {
   "cell_type": "markdown",
   "id": "28712105",
   "metadata": {},
   "source": [
    "# Matrices\n",
    "\n",
    "A matrix, like a vector, is also a collection of numbers. The difference is that a matrix is a table of numbers rather than a list. Many of the same rules we just outlined for vectors above apply equally well to matrices. In fact, you can think of vectors as matrices that happen to only have one column or one row.\n",
    "\n",
    "The **dimensions of a matrix** tells its size: the number of rows and columns of the matrix, in that order.\n",
    "\n",
    "Since matrix $\\boldsymbol{A}$ has two rows and three columns, we write its dimensions as $2\\times 3$, pronounced \"two by three\". In contrast, matrix $\\boldsymbol{B}$ has three rows and two columns, so it is a $3\\times 2$ matrix.\n",
    "\n",
    "$$\\boldsymbol{A} = \\begin{bmatrix}\n",
    "  -2 & 5 & 6\\\\ \n",
    "  5 & 2 & 7\n",
    "\\end{bmatrix}$$\n",
    "\n",
    "$$\\boldsymbol{B} = \\begin{bmatrix}\n",
    "  -8 & -4\\\\ \n",
    "  23 & 12\\\\ \n",
    "  18 & 10\n",
    "\\end{bmatrix}$$"
   ]
  },
  {
   "cell_type": "code",
   "execution_count": 2,
   "id": "968f5d22",
   "metadata": {},
   "outputs": [],
   "source": [
    "A = matrix2([[-2, 5], [5, 2]])\n",
    "B = matrix2([[4, -1], [-1, 3]])"
   ]
  },
  {
   "cell_type": "markdown",
   "id": "14d5eeb2",
   "metadata": {},
   "source": [
    "## Matrix addition, substraction and multiplication\n",
    "\n",
    "First, let’s consider matrix addition and subtraction. This part is uncomplicated. You can add and subtract matrices the same way you add vectors – element by element:\n",
    "\n",
    "$$\\boldsymbol{A}+\\boldsymbol{B}=\\boldsymbol{C}$$\n",
    "\n",
    "$$\\begin{bmatrix} a_{11} & a_{12}\\\\a_{21} & a_{22}\\end{bmatrix} + \\begin{bmatrix} b_{11} & b_{12}\\\\b_{21} & b_{22}\\end{bmatrix} = \\begin{bmatrix} a_{11}+b_{11} & a_{12}+b_{12}\\\\a_{21}+b_{21} & a_{22}+b_{22}\\end{bmatrix}$$"
   ]
  },
  {
   "cell_type": "code",
   "execution_count": 3,
   "id": "d282d8f1",
   "metadata": {},
   "outputs": [
    {
     "data": {
      "text/plain": [
       "Matrix2\n",
       "[[2. 4.]\n",
       " [4. 5.]]"
      ]
     },
     "execution_count": 3,
     "metadata": {},
     "output_type": "execute_result"
    }
   ],
   "source": [
    "A + B"
   ]
  },
  {
   "cell_type": "markdown",
   "id": "3f058361",
   "metadata": {},
   "source": [
    "Matrix multiplication gets a bit more complicated, since multiple elements in the first matrix interact with multiple elements in the second to generate each element in the product matrix. This means that matrix multiplication can be a tedious task to carry out by hand, and can be time consuming on a computer for very large matrices.\n",
    "\n",
    "$$\\boldsymbol{A}\\boldsymbol{B}=\\boldsymbol{C}$$\n",
    "\n",
    "$$\\begin{bmatrix} a_{11} & a_{12}\\\\a_{21} & a_{22}\\end{bmatrix} \\begin{bmatrix} b_{11} & b_{12}\\\\b_{21} & b_{22}\\end{bmatrix} = \\begin{bmatrix} a_{11}b_{11}+a_{12}b_{21} & a_{11}b_{12}+a_{12}b_{22}\\\\a_{21}b_{21}+a_{12}b_{21} & a_{21}b_{22}+a_{12}b_{22}\\end{bmatrix}$$"
   ]
  },
  {
   "cell_type": "code",
   "execution_count": 4,
   "id": "4a69dcc8",
   "metadata": {},
   "outputs": [
    {
     "data": {
      "text/plain": [
       "Matrix2\n",
       "[[-13.  17.]\n",
       " [ 18.   1.]]"
      ]
     },
     "execution_count": 4,
     "metadata": {},
     "output_type": "execute_result"
    }
   ],
   "source": [
    "A @ B"
   ]
  }
 ],
 "metadata": {
  "jupytext": {
   "text_representation": {
    "extension": ".md",
    "format_name": "myst",
    "format_version": 0.13,
    "jupytext_version": "1.14.0"
   }
  },
  "kernelspec": {
   "display_name": "Python 3 (ipykernel)",
   "language": "python",
   "name": "python3"
  },
  "language_info": {
   "codemirror_mode": {
    "name": "ipython",
    "version": 3
   },
   "file_extension": ".py",
   "mimetype": "text/x-python",
   "name": "python",
   "nbconvert_exporter": "python",
   "pygments_lexer": "ipython3",
   "version": "3.10.8"
  },
  "source_map": [
   14,
   17,
   38,
   41,
   51,
   53,
   61
  ]
 },
 "nbformat": 4,
 "nbformat_minor": 5
}