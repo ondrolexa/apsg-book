{
 "cells": [
  {
   "cell_type": "code",
   "execution_count": 1,
   "id": "4ab1bc4d",
   "metadata": {
    "tags": [
     "remove-input"
    ]
   },
   "outputs": [],
   "source": [
    "import numpy as np\n",
    "import matplotlib.pyplot as plt"
   ]
  },
  {
   "cell_type": "markdown",
   "id": "cc16a69d",
   "metadata": {},
   "source": [
    "# Matrices\n",
    "\n",
    "A matrix, like a vector, is also a collection of numbers. The difference is that a matrix is a table of numbers rather than a list. Many of the same rules we just outlined for vectors above apply equally well to matrices. In fact, you can think of vectors as matrices that happen to only have one column or one row.\n",
    "\n",
    "The **dimensions of a matrix** tells its size: the number of rows and columns of the matrix, in that order.\n",
    "\n",
    "Since matrix $\\boldsymbol{A}$ has two rows and three columns, we write its dimensions as $2\\times 3$, pronounced \"two by three\". In contrast, matrix $\\boldsymbol{B}$ has three rows and two columns, so it is a $3\\times 2$ matrix.\n",
    "\n",
    "$$\\boldsymbol{A} = \\begin{bmatrix}\n",
    "  -2 & 5 & 6\\\\ \n",
    "  5 & 2 & 7\n",
    "\\end{bmatrix}$$\n",
    "\n",
    "$$\\boldsymbol{B} = \\begin{bmatrix}\n",
    "  -8 & -4\\\\ \n",
    "  23 & 12\\\\ \n",
    "  18 & 10\n",
    "\\end{bmatrix}$$"
   ]
  },
  {
   "cell_type": "code",
   "execution_count": 2,
   "id": "7edbb797",
   "metadata": {},
   "outputs": [],
   "source": [
    "A = np.array([[-2, 5, 6], [5, 2, 7]])"
   ]
  },
  {
   "cell_type": "markdown",
   "id": "7c9f356b",
   "metadata": {},
   "source": [
    "## Matrix addition, substraction and multiplication\n",
    "\n",
    "First, let’s consider matrix addition and subtraction. This part is uncomplicated. You can add and subtract matrices the same way you add vectors – element by element:\n",
    "\n",
    "$$\\boldsymbol{A}+\\boldsymbol{B}=\\boldsymbol{C}$$\n",
    "\n",
    "$$\\begin{bmatrix} a_{11} & a_{12}\\\\a_{21} & a_{22}\\end{bmatrix} + \\begin{bmatrix} b_{11} & b_{12}\\\\b_{21} & b_{22}\\end{bmatrix} = \\begin{bmatrix} a_{11}+b_{11} & a_{12}+b_{12}\\\\a_{21}+b_{21} & a_{22}+b_{22}\\end{bmatrix}$$\n",
    "\n",
    "Matrix multiplication gets a bit more complicated, since multiple elements in the first matrix interact with multiple elements in the second to generate each element in the product matrix. This means that matrix multiplication can be a tedious task to carry out by hand, and can be time consuming on a computer for very large matrices.\n",
    "\n",
    "$$\\boldsymbol{A}\\boldsymbol{B}=\\boldsymbol{C}$$\n",
    "\n",
    "$$\\begin{bmatrix} a_{11} & a_{12}\\\\a_{21} & a_{22}\\end{bmatrix} \\begin{bmatrix} b_{11} & b_{12}\\\\b_{21} & b_{22}\\end{bmatrix} = \\begin{bmatrix} a_{11}b_{11}+a_{12}b_{21} & a_{11}b_{12}+a_{12}b_{22}\\\\a_{21}b_{21}+a_{12}b_{21} & a_{21}b_{22}+a_{12}b_{22}\\end{bmatrix}$$"
   ]
  }
 ],
 "metadata": {
  "jupytext": {
   "text_representation": {
    "extension": ".md",
    "format_name": "myst",
    "format_version": 0.13,
    "jupytext_version": "1.14.0"
   }
  },
  "kernelspec": {
   "display_name": "Python 3 (ipykernel)",
   "language": "python",
   "name": "python3"
  },
  "language_info": {
   "codemirror_mode": {
    "name": "ipython",
    "version": 3
   },
   "file_extension": ".py",
   "mimetype": "text/x-python",
   "name": "python",
   "nbconvert_exporter": "python",
   "pygments_lexer": "ipython3",
   "version": "3.10.8"
  },
  "source_map": [
   14,
   18,
   39,
   41
  ]
 },
 "nbformat": 4,
 "nbformat_minor": 5
}