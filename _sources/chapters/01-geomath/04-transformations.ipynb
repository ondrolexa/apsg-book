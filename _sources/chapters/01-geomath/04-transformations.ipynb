{
 "cells": [
  {
   "cell_type": "code",
   "execution_count": 1,
   "id": "a8b97194",
   "metadata": {
    "tags": [
     "remove-input"
    ]
   },
   "outputs": [],
   "source": [
    "from apsg import *"
   ]
  },
  {
   "cell_type": "markdown",
   "id": "6986e361",
   "metadata": {},
   "source": [
    "# Transformations\n",
    "\n",
    "Informally, *function* is a rule that accepts inputs and produces outputs. For instance, $f(x)=x^2$ is a function that accepts one number $x$ as its input, and outputs the square of that number: $f(2)=4$.\n",
    "\n",
    "Consider the matrix equation:\n",
    "\n",
    "$$\\boldsymbol{v} = \\boldsymbol{A}\\boldsymbol{u}$$\n",
    "\n",
    "If we vary $\\boldsymbol{u}$, then $\\boldsymbol{v}$ will also vary; in this way, we think of $\\boldsymbol{A}$ as *function* with independent variable $\\boldsymbol{u}$ (which is a vector in $\\mathbb{R}^n$) and dependent variable $\\boldsymbol{v}$ (which is a vector in $\\mathbb{R}^m$).\n",
    "\n",
    "At this point it is convenient to fix our ideas and terminology regarding *functions*, which we will call **transformations**. This allows us to systematize our discussion of **matrices as functions**."
   ]
  },
  {
   "cell_type": "code",
   "execution_count": 2,
   "id": "630d1a73",
   "metadata": {},
   "outputs": [
    {
     "data": {
      "text/plain": [
       "Vector3(3, -1, 1.5)"
      ]
     },
     "execution_count": 2,
     "metadata": {},
     "output_type": "execute_result"
    }
   ],
   "source": [
    "u = vec(2, -1, 3)\n",
    "F = matrix([[2, 1, 0], [0, 1, 0], [0, 0, 0.5]])\n",
    "u.transform(F)"
   ]
  },
  {
   "cell_type": "markdown",
   "id": "406bf605",
   "metadata": {},
   "source": [
    "## Matrix Transformations\n",
    "If $\\boldsymbol{A}$ has $n$ columns, then it only makes sense to multiply $\\boldsymbol{A}$ by vectors with $n$ entries. This is why the domain of transformation is $\\mathbb{R}^n$. If $\\boldsymbol{A}$ has $m$ rows, then $\\boldsymbol{A}\\boldsymbol{u}$ has $m$ entries for any vector $\\boldsymbol{u}$ in $\\mathbb{R}^n$; this is why the codomain of transformation is $\\mathbb{R}^m$.\n",
    "\n",
    "Suppose that $\\boldsymbol{A}$ has columns $v_1, v_1, \\dots v_n$,. If we multiply $\\boldsymbol{A}$ by a general vector $\\boldsymbol{u}$, we get:\n",
    "\n",
    "$$\\boldsymbol{A}\\boldsymbol{u}=\\begin{pmatrix}| & | &  & | \\\\ v_1 & v_2 & \\dots & v_3\\\\ | & | &  & | \\end{pmatrix}\\begin{pmatrix}u_1\\\\ u_2\\\\ \\vdots \\\\ u_n\\end{pmatrix}= u_1v_1 + u_2v_2 + \\dots + u_nv_n$$\n",
    "\n",
    "This is just a general linear combination of $v_1, v_1, \\dots v_n$. Therefore, the outputs of matrix transformations are exactly the linear combinations of the columns of transformation matrix $\\boldsymbol{A}$.\n",
    "\n",
    "## Transpose and inverse of matrix product\n",
    "  \n",
    "Following identities are used very often in linear algebra:\n",
    "\n",
    "$$(\\mathbf{A}\\mathbf{B})^T = \\mathbf{B}^T\\mathbf{A}^T$$\n",
    "\n",
    "$$(\\mathbf{A}\\mathbf{B})^{-1} = \\mathbf{B}^{-1}\\mathbf{A}^{-1}$$\n",
    "\n",
    "$$(\\mathbf{A}^T)^{-1} = (\\mathbf{A}^{-1})^T = \\mathbf{A}^{-T}$$\n",
    "\n",
    "$$((\\mathbf{A}\\mathbf{B})^{-1})^T = ((\\mathbf{A}\\mathbf{B})^T)^{-1} = (\\mathbf{B}^{-1}\\mathbf{A}^{-1})^T = \\mathbf{A}^{-T}\\mathbf{B}^{-T}$$"
   ]
  }
 ],
 "metadata": {
  "jupytext": {
   "text_representation": {
    "extension": ".md",
    "format_name": "myst",
    "format_version": 0.13,
    "jupytext_version": "1.14.0"
   }
  },
  "kernelspec": {
   "display_name": "Python 3 (ipykernel)",
   "language": "python",
   "name": "python3"
  },
  "language_info": {
   "codemirror_mode": {
    "name": "ipython",
    "version": 3
   },
   "file_extension": ".py",
   "mimetype": "text/x-python",
   "name": "python",
   "nbconvert_exporter": "python",
   "pygments_lexer": "ipython3",
   "version": "3.10.8"
  },
  "source_map": [
   14,
   17,
   31,
   35
  ]
 },
 "nbformat": 4,
 "nbformat_minor": 5
}