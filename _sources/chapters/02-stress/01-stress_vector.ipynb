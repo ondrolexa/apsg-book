{
 "cells": [
  {
   "cell_type": "code",
   "execution_count": 1,
   "id": "8f81e799",
   "metadata": {
    "tags": [
     "remove-input"
    ]
   },
   "outputs": [],
   "source": [
    "from apsg import *"
   ]
  },
  {
   "cell_type": "markdown",
   "id": "62c0ed78",
   "metadata": {},
   "source": [
    "# Stress vector\n",
    "\n",
    "Consider two blocks of different cross-sections. Intuitively, the blocks whose cross-section is smaller is going to deform a lot\n",
    "more than the other. While in rigid body mechanics, the concept of force is sufficient to describe or predict the motion of the body, in deformable bodies it is not. \n",
    "\n",
    "```{image} figures/twiss_stress.png\n",
    ":alt: Stress\n",
    ":class: bg-primary mb-1\n",
    ":width: 50%\n",
    ":align: center\n",
    "```\n",
    "\n",
    "We will need to understand the concept of **stress**. The term **stress** ($\\sigma$) is used to express the loading in terms of force applied to a certain cross-sectional area of an object.\n",
    "\n",
    "From the perspective of loading, stress is the applied force or system of forces that tends to deform a body.\n",
    "\n",
    "From the perspective of what is happening within a material, stress is the internal distribution of forces within a body that balance and react to the loads applied to it. The stress distribution may or may not be uniform, depending on the nature of the loading condition. \n",
    "\n",
    "```{image} figures/simple_stress.png\n",
    ":alt: Simple stress\n",
    ":class: bg-primary mb-1\n",
    ":width: 50%\n",
    ":align: center\n",
    "```\n",
    "\n",
    "## Traction\n",
    "\n",
    "Simplifying assumptions are often used to represent force acting on area as **traction vector** - simply the force vector divided by that area. \n",
    "\n",
    "$$\\boldsymbol{T} = \\frac{\\boldsymbol{F}}{A}$$\n",
    "\n",
    "$\\boldsymbol{T}$ has units of stress, but as it is a vector, all the usual rules for vectors apply to it.\n",
    "\n",
    "The unit of stress is Pascal [Pa] or Newtons per square meter [$\\frac{N}{m^2}$]. A stress of 1 Pa is very small, for example, the load due to 1m of water is about 10$^4$ Pa. So, in geology we often use metric prefixes:\n",
    " - 1 hPa = 10$^2$ Pa (hektopascal)\n",
    " - 1 kPa = 10$^3$ Pa (kilopascal)\n",
    " - 1 MPa = 10$^6$ Pa (megapascal)\n",
    " - 1 GPa = 10$^9$ Pa (gigapascal)\n",
    "\n",
    "Other units are bars and atm: 1 MPa = 10$^6$ Pa = 10 bars = 9.869232667 atm\n",
    "\n",
    "The **traction** is a **vector quantity** that acts at a point on an imaginary or real surface of arbitrary orientation.\n",
    "\n",
    "```{admonition} Cauchy reciprocal theorem\n",
    ":class: tip\n",
    "The traction at a point on a surface is equal and opposite to the traction that at that same point for the same surface with opposite outward unit normal vector.\n",
    "```\n",
    "\n",
    "```{image} figures/tractions.png\n",
    ":alt: Traction\n",
    ":class: bg-primary mb-1\n",
    ":width: 50%\n",
    ":align: center\n",
    "```\n",
    "\n",
    "## Stress components\n",
    "\n",
    "In general, a stress acting on a plane represented by traction $\\boldsymbol{T}^{(\\boldsymbol{n})}$ may be expressed as a sum\n",
    "of shear and normal components.\n",
    "\n",
    "```{image} figures/stress_onplane.png\n",
    ":alt: Stress on plane\n",
    ":class: bg-primary mb-1\n",
    ":width: 60%\n",
    ":align: center\n",
    "```\n",
    "\n",
    "```{note}\n",
    "**Normal stress**: The component of stress acting perpendicular to the plane\n",
    "\n",
    "**Shear stress**: The component of stress acting parallel to the plane\n",
    "```\n",
    "\n",
    "The magnitude of the normal stress component $\\sigma _n$ of any stress vector $\\boldsymbol{T}^{(\\boldsymbol{n})}$ acting on an arbitrary\n",
    "plane with normal unit vector $n$ at a given point, in terms of the stress tensor $\\boldsymbol{\\sigma}$, could be calculated a scalar projection of the stress vector onto the normal unit vector:\n",
    "\n",
    "$$\\left\\| {{{\\vec \\sigma }_n}} \\right\\| = {{\\bf{T}}^{\\left( {\\bf{n}} \\right)}} \\cdot \\bf{n}$$\n",
    "\n",
    "$${{\\vec \\sigma }_n} = \\left\\| {{{\\vec \\sigma }_n}} \\right\\|\\bf{n}$$\n",
    "\n",
    "The magnitude of the shear stress component $\\tau_n$, acting in the plane spanned by the two vectors $\\boldsymbol{T}^{(\\boldsymbol{n})}$ and $n$, can then be found using the Pythagorean theorem:\n",
    "\n",
    "$$\\left\\| {{{\\vec \\tau }_n}} \\right\\| = \\sqrt {{{\\left\\| {{{\\bf{T}}^{\\left( {\\bf{n}} \\right)}}} \\right\\|}^2} - {{\\left\\| {{{\\vec \\sigma }_n}} \\right\\|}^2}}$$\n",
    "\n",
    "$${{\\vec \\tau }_n} = {{\\bf{T}}^{\\left( {\\bf{n}} \\right)}} - {{\\vec \\sigma }_n}$$"
   ]
  },
  {
   "cell_type": "code",
   "execution_count": 2,
   "id": "6cec2676",
   "metadata": {},
   "outputs": [
    {
     "data": {
      "text/plain": [
       "3.75"
      ]
     },
     "execution_count": 2,
     "metadata": {},
     "output_type": "execute_result"
    }
   ],
   "source": [
    "n = fol(150, 60)\n",
    "T = 5 * vec('x')  # Traction vector oriented parallel to x-axis with magnitude 5\n",
    "T.dot(n)  # normal stress magnitude"
   ]
  },
  {
   "cell_type": "code",
   "execution_count": 3,
   "id": "222add9d",
   "metadata": {},
   "outputs": [
    {
     "data": {
      "text/plain": [
       "3.75"
      ]
     },
     "execution_count": 3,
     "metadata": {},
     "output_type": "execute_result"
    }
   ],
   "source": [
    "sn = T.proj(n)  # project tranction vector T onto normal n - normal stress\n",
    "abs(sn)  # magnitude of normal stress"
   ]
  },
  {
   "cell_type": "code",
   "execution_count": 4,
   "id": "f9d5a320",
   "metadata": {},
   "outputs": [
    {
     "data": {
      "text/plain": [
       "3.307189138830738"
      ]
     },
     "execution_count": 4,
     "metadata": {},
     "output_type": "execute_result"
    }
   ],
   "source": [
    "tau = T - sn  # shear stress\n",
    "abs(tau)  # magnitude of shear stress"
   ]
  },
  {
   "cell_type": "markdown",
   "id": "d240abc6",
   "metadata": {},
   "source": [
    "or we can use vector rejection:"
   ]
  },
  {
   "cell_type": "code",
   "execution_count": 5,
   "id": "0c25f581",
   "metadata": {},
   "outputs": [
    {
     "data": {
      "text/plain": [
       "3.307189138830738"
      ]
     },
     "execution_count": 5,
     "metadata": {},
     "output_type": "execute_result"
    }
   ],
   "source": [
    "tau = T.reject(n)  # shear stress\n",
    "abs(tau)  # magnitude of shear stress"
   ]
  },
  {
   "cell_type": "markdown",
   "id": "b9f7d2e2",
   "metadata": {},
   "source": [
    "## Stress at point\n",
    "It must be noted that the stresses in most 2-D or 3-D solids are actually more complex and need be defined more methodically.\n",
    "\n",
    "The internal force acting on a small area of a plane represented by traction vector can be resolved into normal and shear stress components. These stresses are average stresses as the area is finite, but when the area is allowed to approach zero, the stresses become stresses at a point.\n",
    "\n",
    "Since stresses are defined in relation to the plane that passes through the point under consideration, and the number of such planes is infinite, there appear an infinite set of stresses at a point.\n",
    "\n",
    "Fortunately, it can be proven that the stresses on any plane can be computed from the stresses on three orthogonal planes passing through the point... and **tensors** will help us."
   ]
  }
 ],
 "metadata": {
  "jupytext": {
   "text_representation": {
    "extension": ".md",
    "format_name": "myst",
    "format_version": 0.13,
    "jupytext_version": "1.14.0"
   }
  },
  "kernelspec": {
   "display_name": "Python 3 (ipykernel)",
   "language": "python",
   "name": "python3"
  },
  "language_info": {
   "codemirror_mode": {
    "name": "ipython",
    "version": 3
   },
   "file_extension": ".py",
   "mimetype": "text/x-python",
   "name": "python",
   "nbconvert_exporter": "python",
   "pygments_lexer": "ipython3",
   "version": "3.10.8"
  },
  "source_map": [
   14,
   17,
   105,
   111,
   116,
   119,
   123,
   126
  ]
 },
 "nbformat": 4,
 "nbformat_minor": 5
}