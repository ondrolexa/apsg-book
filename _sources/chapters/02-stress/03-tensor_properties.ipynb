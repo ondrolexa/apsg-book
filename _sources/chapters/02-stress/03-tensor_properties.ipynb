{
 "cells": [
  {
   "cell_type": "code",
   "execution_count": 1,
   "id": "cc9b49e5",
   "metadata": {
    "tags": [
     "remove-input"
    ]
   },
   "outputs": [],
   "source": [
    "import numpy as np\n",
    "import matplotlib.pyplot as plt"
   ]
  },
  {
   "cell_type": "markdown",
   "id": "b99b864b",
   "metadata": {},
   "source": [
    "# Stress tensor properties\n",
    "\n",
    "## Transformation rule of the stress tensor\n",
    "\n",
    "From an $x_i$ - system to an $x_i'$ - system, the components $\\sigma_{ij}$ in the initial system are transformed into the components $\\sigma_{ij}'$ in the new system according to the **tensor transformation rule**:\n",
    "\n",
    "$$\\boldsymbol{{\\sigma}'} = \\boldsymbol{R} \\boldsymbol{\\sigma} \\boldsymbol{R}^{T}$$\n",
    "\n",
    "Note that inverse rule is: $\\boldsymbol{{\\sigma}} = \\boldsymbol{R}^{T} \\boldsymbol{{\\sigma}'} \\boldsymbol{R}$\n",
    "\n",
    "```{image} figures/Stress_transformation_3D.png\n",
    ":alt: Stress transformation in 3D\n",
    ":class: bg-primary mb-1\n",
    ":width: 75%\n",
    ":align: center\n",
    "```\n",
    "\n",
    "where $\\boldsymbol{R}$ is a rotation matrix with components $a_{ij}$. In matrix form this is:\n",
    "\n",
    "$$\\left[{{\\begin{matrix}\\sigma '_{{11}}&\\sigma '_{{21}}&\\sigma '_{{31}}\\\\\\sigma '_{{12}}&\\sigma '_{{22}}&\\sigma '_{{32}}\\\\\\sigma '_{{13}}&\\sigma '_{{23}}&\\sigma '_{{33}}\\\\\\end{matrix}}}\\right]=\\left[{{\\begin{matrix}a_{{11}}&a_{{12}}&a_{{13}}\\\\a_{{21}}&a_{{22}}&a_{{23}}\\\\a_{{31}}&a_{{32}}&a_{{33}}\\\\\\end{matrix}}}\\right]\\left[{{\\begin{matrix}\\sigma _{{11}}&\\sigma _{{21}}&\\sigma _{{31}}\\\\\\sigma _{{12}}&\\sigma _{{22}}&\\sigma _{{32}}\\\\\\sigma _{{13}}&\\sigma _{{23}}&\\sigma _{{33}}\\\\\\end{matrix}}}\\right]\\left[{{\\begin{matrix}a_{{11}}&a_{{21}}&a_{{31}}\\\\a_{{12}}&a_{{22}}&a_{{32}}\\\\a_{{13}}&a_{{23}}&a_{{33}}\\\\\\end{matrix}}}\\right]$$\n",
    "\n",
    "## Principal stresses and principal directions\n",
    "\n",
    "At every point in a stressed body there are at least three planes, called **principal planes**, with normal vectors $\\boldsymbol{n}$, called **principal directions**, where the corresponding stress vector is perpendicular to the plane, i.e., parallel or in the same\n",
    "direction as the normal vector $\\boldsymbol{n}$, and where there are no normal shear stresses $\\tau_{\\mathrm{n}}$. The three stresses normal to these principal planes are called **principal stresses**.\n",
    "\n",
    "The components $\\sigma_{ij}$ of the stress tensor depend on the orientation of the coordinate system at the point under consideration. However, the stress tensor itself is a physical quantity and as such, it is independent of the coordinate system chosen to represent it. There are certain **invariants** associated with every tensor which are also independent of the coordinate system. One set of such invariants are the **principal stresses** of the stress tensor, which are just the **eigenvalues** of the stress tensor. Their direction vectors are the **principal directions** or **eigenvectors**.\n",
    "\n",
    "\n",
    "## Stress invariants\n",
    "\n",
    "A stress vector parallel to the normal unit vector $\\boldsymbol{n}$ is given by:\n",
    "\n",
    "$$\\boldsymbol{T}^{(\\boldsymbol {n} )} = \\boldsymbol{\\sigma} \\cdot \\boldsymbol{n} = \\lambda \\boldsymbol{n}$$\n",
    "\n",
    "where $\\lambda$ is a constant of proportionality, and in this particular case corresponds to the magnitudes $\\sigma_n$ of the normal stress vectors or principal stresses.\n",
    "\n",
    "$$\\begin{aligned}\n",
    "  \\boldsymbol{\\sigma} \\cdot \\boldsymbol{n} &= \\lambda \\boldsymbol{n} \\\\\n",
    "  \\boldsymbol{\\sigma} \\cdot \\boldsymbol{n} - \\lambda \\boldsymbol{n} &= \\boldsymbol{0} \\\\\n",
    "  \\left(\\boldsymbol{\\sigma} - \\lambda \\delta _{ij}\\right)\\boldsymbol{n} &= \\boldsymbol{0}\\\\\n",
    "\\end{aligned}$$\n",
    "\n",
    "This is a homogeneous system (note zero right side) of linear equations where components $n_{i}$ of vector $\\boldsymbol{n}$ are the unknowns.\n",
    "\n",
    "To obtain a nontrivial (non-zero) solution for $n_{i}$, the determinant matrix of the coefficients must be equal to zero, i.e. the system is singular. Thus,\n",
    "\n",
    "$$\\left|\\boldsymbol{\\sigma} - \\lambda \\delta _{ij}\\right| = -\\lambda ^{3}+I_{1}\\lambda ^{2}-I_{2}\\lambda +I_{3}=0$$\n",
    "\n",
    "where\n",
    "\n",
    "$$\\begin{aligned}I_{1}&=\\sigma _{11}+\\sigma _{22}+\\sigma _{33}=\\sigma _{kk}={\\text{tr}}({\\boldsymbol {\\sigma }})\\\\I_{2}&=\\sigma _{11}\\sigma _{22}+\\sigma _{22}\\sigma _{33}+\\sigma _{11}\\sigma _{33}-\\sigma _{12}^{2}-\\sigma _{23}^{2}-\\sigma _{31}^{2}\\\\&={\\frac {1}{2}}\\left(\\sigma _{ii}\\sigma _{jj}-\\sigma _{ij}\\sigma _{ji}\\right)={\\frac {1}{2}}\\left[\\left({\\text{tr}}({\\boldsymbol {\\sigma }})\\right)^{2}-{\\text{tr}}({\\boldsymbol {\\sigma }}^{2})\\right]\\\\I_{3}&=\\det(\\sigma _{ij})=\\det({\\boldsymbol {\\sigma }})\\end{aligned}$$\n",
    "\n",
    "The $\\sigma _{1}=\\max \\left(\\lambda _{1},\\lambda _{2},\\lambda _{3}\\right)$, $\\sigma _{3}=\\min \\left(\\lambda _{1},\\lambda _{2},\\lambda _{3}\\right)$ and $\\sigma _{2}=I_{1}-\\sigma _{1}-\\sigma _{3}$, are the principal stresses. The coefficients $I_{1}$, $I_{2}$ and $I_{3}$, are called the **first, second, and third stress invariants**.\n",
    "\n",
    "## Tensor decomposition\n",
    "\n",
    "A tensor decomposition is any scheme for expressing a tensor as a sequence of elementary operations acting on other, often simpler tensors. Many tensor decompositions generalize some matrix decompositions.\n",
    "\n",
    "Decomposition of tensor to symmetric $\\boldsymbol{D}$ and antisymmetric $\\boldsymbol{W}$ part, where\n",
    "\n",
    "$$\\boldsymbol{D} = \\frac{1}{2}\\left( \\boldsymbol{T} + \\boldsymbol{T}^T\\,\\right) \\;\\textsf{and }\\; \\boldsymbol{W} = \\frac{1}{2}\\left( \\boldsymbol{T} - \\boldsymbol{T}^T\\,\\right)$$\n",
    "\n",
    "Decomposition of tensor to deviatoric $\\boldsymbol{S}$ and volumetric part $\\boldsymbol{V}$, where\n",
    "\n",
    "$$\\boldsymbol{S} = \\boldsymbol{T} - \\frac{\\text{tr}(\\boldsymbol{T})}{3}\\delta_{ij} \\;\\textsf{and }\\; \\boldsymbol{V} = \\frac{\\text{tr}(\\boldsymbol{T})}{3}\\delta_{ij}$$"
   ]
  }
 ],
 "metadata": {
  "jupytext": {
   "text_representation": {
    "extension": ".md",
    "format_name": "myst",
    "format_version": 0.13,
    "jupytext_version": "1.14.0"
   }
  },
  "kernelspec": {
   "display_name": "Python 3 (ipykernel)",
   "language": "python",
   "name": "python3"
  },
  "language_info": {
   "codemirror_mode": {
    "name": "ipython",
    "version": 3
   },
   "file_extension": ".py",
   "mimetype": "text/x-python",
   "name": "python",
   "nbconvert_exporter": "python",
   "pygments_lexer": "ipython3",
   "version": "3.10.8"
  },
  "source_map": [
   14,
   18
  ]
 },
 "nbformat": 4,
 "nbformat_minor": 5
}