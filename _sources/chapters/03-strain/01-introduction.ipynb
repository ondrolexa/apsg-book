{
 "cells": [
  {
   "cell_type": "code",
   "execution_count": 1,
   "id": "b17e6c5a",
   "metadata": {
    "tags": [
     "remove-input"
    ]
   },
   "outputs": [
    {
     "ename": "ModuleNotFoundError",
     "evalue": "No module named 'apsg'",
     "output_type": "error",
     "traceback": [
      "\u001b[0;31m---------------------------------------------------------------------------\u001b[0m",
      "\u001b[0;31mModuleNotFoundError\u001b[0m                       Traceback (most recent call last)",
      "Cell \u001b[0;32mIn [1], line 3\u001b[0m\n\u001b[1;32m      1\u001b[0m \u001b[38;5;28;01mimport\u001b[39;00m \u001b[38;5;21;01mnumpy\u001b[39;00m \u001b[38;5;28;01mas\u001b[39;00m \u001b[38;5;21;01mnp\u001b[39;00m\n\u001b[1;32m      2\u001b[0m \u001b[38;5;28;01mimport\u001b[39;00m \u001b[38;5;21;01mmatplotlib\u001b[39;00m\u001b[38;5;21;01m.\u001b[39;00m\u001b[38;5;21;01mpyplot\u001b[39;00m \u001b[38;5;28;01mas\u001b[39;00m \u001b[38;5;21;01mplt\u001b[39;00m\n\u001b[0;32m----> 3\u001b[0m \u001b[38;5;28;01mfrom\u001b[39;00m \u001b[38;5;21;01mapsg\u001b[39;00m \u001b[38;5;28;01mimport\u001b[39;00m \u001b[38;5;241m*\u001b[39m\n\u001b[1;32m      4\u001b[0m \u001b[38;5;28;01mfrom\u001b[39;00m \u001b[38;5;21;01mstrain2d\u001b[39;00m \u001b[38;5;28;01mimport\u001b[39;00m plot_defgrad\n",
      "\u001b[0;31mModuleNotFoundError\u001b[0m: No module named 'apsg'"
     ]
    }
   ],
   "source": [
    "import numpy as np\n",
    "import matplotlib.pyplot as plt\n",
    "from apsg import *\n",
    "from strain2d import plot_defgrad"
   ]
  },
  {
   "cell_type": "markdown",
   "id": "5944d882",
   "metadata": {},
   "source": [
    "# Introduction to kinematic analysis\n",
    "\n",
    "**Deformation** is the transformation of a body from a reference configuration to a current configuration. A configuration is a set containing the positions of all particles of the body. A deformation can occur because of external loads, body forces (such as gravity), or changes in temperature, pressure, or chemical reactions, etc.\n",
    "\n",
    "**Strain** is related to deformation in terms of relative displacement of particles in the body that excludes rigid-body motions. Different equivalent choices may be made for the expression of a strain field depending on whether it is defined with respect to the initial or the final configuration of the body. Here we will follow simplified view.\n",
    "\n",
    "In a continuous body, a deformation field results from a stress field due to applied forces or because of some changes in the temperature field of the body. The relation between stress and strain is expressed by **constitutive equations**, e.g., Hooke's law for linear elastic materials. Deformations which cease to exist after the stress field is removed are termed as **elastic deformation**. In this case, the continuum completely recovers its original configuration. On the other hand, irreversible deformations remain. They exist even after stresses have been removed. One type of irreversible deformation is **plastic deformation**, which occurs in material bodies after stresses have attained a certain threshold value known as the elastic limit or yield stress, and are the result of slip, or dislocation mechanisms at the atomic level. Another type of irreversible deformation is **viscous deformation**, which is the irreversible part of viscoelastic deformation.\n",
    "\n",
    "## Components of deformation\n",
    "A change in the configuration of a continuum body results in a displacement from an \\textbf{initial or undeformed configuration} to a current\n",
    "or \\textbf{deformed configuration}.\n",
    "\n",
    "The displacement of a body has two components:\n",
    "\n",
    "- **Rigid-body displacement**\n",
    "  implies no relative displacement of particles in the body, i.e. there is no change in shape and size of the body from an initial or undeformed configuration\n",
    "  - Translation\n",
    "  - Rotation\n",
    "\n",
    "- **Deformation or strain**\n",
    "  implies relative displacement of particles in the body, i.e. the change in shape and/or size of the body from an initial or undeformed configuration\n",
    "  - Distortion - isochoric change in shape\n",
    "  - Dilation - change in volume\n",
    "\n",
    "```{image} figures/sd_all.png\n",
    ":alt: Components of deformation\n",
    ":class: bg-primary mb-1\n",
    ":width: 75%\n",
    ":align: center\n",
    "```\n",
    "\n",
    "## Homogeneous deformation\n",
    "\n",
    "A deformation is called an homogeneous (also called affine deformation) if it can be described by an affine transformation. Such a transformation is composed of a linear transformation (such as rotation, shear, extension and compression) and a rigid body translation. Every part of the material deforms as the whole does, and straight parallel lines in the reference configuration map to straight parallel lines in the deformed configuration.\n",
    "\n",
    "$$\\begin{aligned}x &= aX+bY+t_X \\\\ y &= cX+dY+t_Y \\end{aligned}$$\n",
    "\n",
    "or in matrix form:\n",
    "\n",
    "$$\\begin{bmatrix} x \\\\ y \\end{bmatrix} = \\begin{bmatrix} a & b \\\\ c & d \\end{bmatrix}\\begin{bmatrix}X \\\\ Y \\end{bmatrix} + \\begin{bmatrix} t_X \\\\ t_Y \\end{bmatrix}$$\n",
    "\n",
    "```{note}\n",
    "Properties of homogeneous deformation are not spatially dependent.\n",
    "```\n",
    "\n",
    "## Deformation gradient\n",
    "Without translation the homogeneous deformation (rotation and strain) could be described as:\n",
    "\n",
    "$$\\begin{aligned}x &= aX+bY \\\\ y &= cX+dY \\end{aligned}$$\n",
    "\n",
    "$$ \\begin{bmatrix}x \\\\ y\\end{bmatrix}=\\begin{bmatrix} a & b \\\\ c & d \\end{bmatrix}\\begin{bmatrix}X \\\\ Y\\end{bmatrix}$$\n",
    "\n",
    "or\n",
    "\n",
    "$$\\vec{x}=\\boldsymbol{F}\\vec{X}$$\n",
    "\n",
    "where $\\boldsymbol{F}$ is so called **deformation gradient**.\n",
    "\n",
    "Note, that as we excluded translation, the origin of coordinates do not change during deformation:\n",
    "\n",
    "$$\\begin{bmatrix} 0 \\\\ 0  \\end{bmatrix}=\\boldsymbol{F}\\begin{bmatrix} 0 \\\\ 0  \\end{bmatrix}$$\n",
    "\n",
    "\n",
    "## Displacement gradient\n",
    "\n",
    "Displacement of particle is vector between initial and final postion, i.e:\n",
    "\n",
    "$$\\begin{aligned}u &= x-X = aX+bY-X = (a-1)X+bY\\\\ v &= y-Y = cX+dY-Y = cX+(d-1)Y\\end{aligned}$$\n",
    "\n",
    "$$\\begin{bmatrix}u \\\\ v\\end{bmatrix}=\\begin{bmatrix} a-1 & b \\\\ c & d-1 \\end{bmatrix}\\begin{bmatrix}X \\\\ Y\\end{bmatrix}$$\n",
    "\n",
    "or\n",
    "\n",
    "$$\\vec{u}=(\\boldsymbol{F}-\\boldsymbol{I})\\vec{X}=(\\boldsymbol{\\nabla u})\\vec{X}$$\n",
    "\n",
    "where $\\boldsymbol{\\nabla}\\boldsymbol{u}$ is so called **displacement gradient**.\n",
    "\n",
    "\n",
    "## Python exercise"
   ]
  },
  {
   "cell_type": "code",
   "execution_count": null,
   "id": "45377f02",
   "metadata": {},
   "outputs": [],
   "source": [
    "F = defgrad2([[2, 1],[0, 0.5]])\n",
    "plot_defgrad(F)"
   ]
  }
 ],
 "metadata": {
  "jupytext": {
   "text_representation": {
    "extension": ".md",
    "format_name": "myst",
    "format_version": 0.13,
    "jupytext_version": "1.14.0"
   }
  },
  "kernelspec": {
   "display_name": "Python 3 (ipykernel)",
   "language": "python",
   "name": "python3"
  },
  "language_info": {
   "codemirror_mode": {
    "name": "ipython",
    "version": 3
   },
   "file_extension": ".py",
   "mimetype": "text/x-python",
   "name": "python",
   "nbconvert_exporter": "python",
   "pygments_lexer": "ipython3",
   "version": "3.8.14"
  },
  "source_map": [
   14,
   20,
   102
  ]
 },
 "nbformat": 4,
 "nbformat_minor": 5
}