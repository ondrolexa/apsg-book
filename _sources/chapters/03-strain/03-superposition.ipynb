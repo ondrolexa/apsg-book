{
 "cells": [
  {
   "cell_type": "code",
   "execution_count": 1,
   "id": "78f3b7f6",
   "metadata": {
    "tags": [
     "remove-input"
    ]
   },
   "outputs": [
    {
     "ename": "ModuleNotFoundError",
     "evalue": "No module named 'apsg'",
     "output_type": "error",
     "traceback": [
      "\u001b[0;31m---------------------------------------------------------------------------\u001b[0m",
      "\u001b[0;31mModuleNotFoundError\u001b[0m                       Traceback (most recent call last)",
      "Cell \u001b[0;32mIn [1], line 3\u001b[0m\n\u001b[1;32m      1\u001b[0m \u001b[38;5;28;01mimport\u001b[39;00m \u001b[38;5;21;01mnumpy\u001b[39;00m \u001b[38;5;28;01mas\u001b[39;00m \u001b[38;5;21;01mnp\u001b[39;00m\n\u001b[1;32m      2\u001b[0m \u001b[38;5;28;01mimport\u001b[39;00m \u001b[38;5;21;01mmatplotlib\u001b[39;00m\u001b[38;5;21;01m.\u001b[39;00m\u001b[38;5;21;01mpyplot\u001b[39;00m \u001b[38;5;28;01mas\u001b[39;00m \u001b[38;5;21;01mplt\u001b[39;00m\n\u001b[0;32m----> 3\u001b[0m \u001b[38;5;28;01mfrom\u001b[39;00m \u001b[38;5;21;01mapsg\u001b[39;00m \u001b[38;5;28;01mimport\u001b[39;00m \u001b[38;5;241m*\u001b[39m\n\u001b[1;32m      4\u001b[0m \u001b[38;5;28;01mfrom\u001b[39;00m \u001b[38;5;21;01mstrain2d\u001b[39;00m \u001b[38;5;28;01mimport\u001b[39;00m plot_defgrad\n",
      "\u001b[0;31mModuleNotFoundError\u001b[0m: No module named 'apsg'"
     ]
    }
   ],
   "source": [
    "import numpy as np\n",
    "import matplotlib.pyplot as plt\n",
    "from apsg import *\n",
    "from strain2d import plot_defgrad"
   ]
  },
  {
   "cell_type": "markdown",
   "id": "c816dc7c",
   "metadata": {},
   "source": [
    "# Superposition of deformation\n",
    "\n",
    "$\\boldsymbol{F}$ maps any undeformed vector into its deformed state. This vector can also be a position vector of a point. Therefore $\\boldsymbol{F}$ also maps any point into its new position after deformation. Considering two successive deformations $\\boldsymbol{F_1}$ and $\\boldsymbol{F_2}$ write transformation equation....\n",
    "\n",
    "$$\\vec{x}_1 = \\boldsymbol{F_1} \\cdot \\vec{X}$$\n",
    "\n",
    "$$\\vec{x}_2 = \\boldsymbol{F_2} \\cdot \\vec{x}_1$$\n",
    "\n",
    "Substitute first equation to second gives:\n",
    "\n",
    "$$\\vec{x}_2 = \\boldsymbol{F_2} \\cdot \\boldsymbol{F_1} \\cdot \\vec{X}$$\n",
    "\n",
    "so\n",
    "\n",
    "$$\\vec{x}_2 = \\boldsymbol{F} \\cdot \\vec{X}$$\n",
    "\n",
    "where\n",
    "\n",
    "$$\\boldsymbol{F} = \\boldsymbol{F_2} \\cdot \\boldsymbol{F_1}$$\n",
    "\n",
    "The total deformation gradient can be written as the product of two partial deformation gradients, where order from right to left corresponds to superposition of deformations."
   ]
  },
  {
   "cell_type": "code",
   "execution_count": null,
   "id": "081846ad",
   "metadata": {},
   "outputs": [],
   "source": [
    "F1 = defgrad2([[1, 1], [0, 1]])\n",
    "F2 = defgrad2([[2 ** 0.5, 0], [0, 0.5 ** 0.5]])\n",
    "plot_defgrad(F2 @ F1, title='F2⋅F1')"
   ]
  },
  {
   "cell_type": "code",
   "execution_count": null,
   "id": "ee39d7eb",
   "metadata": {},
   "outputs": [],
   "source": [
    "plot_defgrad(F1 @ F2, title='F1⋅F2')"
   ]
  }
 ],
 "metadata": {
  "jupytext": {
   "text_representation": {
    "extension": ".md",
    "format_name": "myst",
    "format_version": 0.13,
    "jupytext_version": "1.14.0"
   }
  },
  "kernelspec": {
   "display_name": "Python 3 (ipykernel)",
   "language": "python",
   "name": "python3"
  },
  "language_info": {
   "codemirror_mode": {
    "name": "ipython",
    "version": 3
   },
   "file_extension": ".py",
   "mimetype": "text/x-python",
   "name": "python",
   "nbconvert_exporter": "python",
   "pygments_lexer": "ipython3",
   "version": "3.10.8"
  },
  "source_map": [
   14,
   20,
   44,
   50
  ]
 },
 "nbformat": 4,
 "nbformat_minor": 5
}