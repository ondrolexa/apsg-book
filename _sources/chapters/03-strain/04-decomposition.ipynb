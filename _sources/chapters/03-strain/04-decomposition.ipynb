{
 "cells": [
  {
   "cell_type": "code",
   "execution_count": 1,
   "id": "3b1652c1",
   "metadata": {
    "tags": [
     "remove-input"
    ]
   },
   "outputs": [
    {
     "ename": "ModuleNotFoundError",
     "evalue": "No module named 'apsg'",
     "output_type": "error",
     "traceback": [
      "\u001b[0;31m---------------------------------------------------------------------------\u001b[0m",
      "\u001b[0;31mModuleNotFoundError\u001b[0m                       Traceback (most recent call last)",
      "Cell \u001b[0;32mIn [1], line 3\u001b[0m\n\u001b[1;32m      1\u001b[0m \u001b[38;5;28;01mimport\u001b[39;00m \u001b[38;5;21;01mnumpy\u001b[39;00m \u001b[38;5;28;01mas\u001b[39;00m \u001b[38;5;21;01mnp\u001b[39;00m\n\u001b[1;32m      2\u001b[0m \u001b[38;5;28;01mimport\u001b[39;00m \u001b[38;5;21;01mmatplotlib\u001b[39;00m\u001b[38;5;21;01m.\u001b[39;00m\u001b[38;5;21;01mpyplot\u001b[39;00m \u001b[38;5;28;01mas\u001b[39;00m \u001b[38;5;21;01mplt\u001b[39;00m\n\u001b[0;32m----> 3\u001b[0m \u001b[38;5;28;01mfrom\u001b[39;00m \u001b[38;5;21;01mapsg\u001b[39;00m \u001b[38;5;28;01mimport\u001b[39;00m \u001b[38;5;241m*\u001b[39m\n\u001b[1;32m      4\u001b[0m \u001b[38;5;28;01mfrom\u001b[39;00m \u001b[38;5;21;01mstrain2d\u001b[39;00m \u001b[38;5;28;01mimport\u001b[39;00m plot_defgrad\n",
      "\u001b[0;31mModuleNotFoundError\u001b[0m: No module named 'apsg'"
     ]
    }
   ],
   "source": [
    "import numpy as np\n",
    "import matplotlib.pyplot as plt\n",
    "from apsg import *\n",
    "from strain2d import plot_defgrad"
   ]
  },
  {
   "cell_type": "markdown",
   "id": "0a63a10a",
   "metadata": {},
   "source": [
    "# Deformation gradient decompositions\n",
    "\n",
    "As we noted earlier, the deformation gradient tensor includes both rigid body and deformation modes. Therefore, we should be able to decompose the deformation gradient into rigid body and deformation components. Since translation does not change any vector or its components, we can therefore conclude that the deformation gradient tensor will only contain the rigid body mode of rotation in addition to stretch.\n",
    "\n",
    "The following example clearly shows object being stretched and rotated."
   ]
  },
  {
   "cell_type": "code",
   "execution_count": null,
   "id": "8a788027",
   "metadata": {},
   "outputs": [],
   "source": [
    "F = defgrad2([[1.732, -0.25], [1, 0.433]])\n",
    "plot_defgrad(F)"
   ]
  },
  {
   "cell_type": "markdown",
   "id": "3f134475",
   "metadata": {},
   "source": [
    "## Polar decomposition\n",
    "\n",
    "We therefore postulate without proof that the deformation gradient tensor can be decomposed into stretch multiplied by rotation. We therefore can write this decomposition as:\n",
    "\n",
    "$$\\boldsymbol{F} = \\boldsymbol{R} \\cdot \\boldsymbol{U}$$\n",
    "\n",
    "where $\\boldsymbol{R}$ is the **rotation matrix**, and $\\boldsymbol{U}$ is the\n",
    "**right stretch tensor**. Note that the process is read from\n",
    "right to left, not left to right. $\\boldsymbol{U}$ is applied first, then $\\boldsymbol{R}$.\n",
    "\n",
    "The deformation gradient from above example could be decomposed as:\n",
    "\n",
    "$$\\boldsymbol{F} = \\begin{bmatrix} 1.732 & -0.25 \\\\ 1 & 0.433 \\end{bmatrix} \\approx\n",
    "\\begin{bmatrix} \\cos(30^\\circ) & -\\sin(30^\\circ) \\\\ \\sin(30^\\circ) & \\cos(30^\\circ) \\end{bmatrix}\n",
    "\\begin{bmatrix} 2 & 0 \\\\ 0 & 0.5 \\end{bmatrix}$$"
   ]
  },
  {
   "cell_type": "code",
   "execution_count": null,
   "id": "9a4efcc2",
   "metadata": {},
   "outputs": [],
   "source": [
    "U = defgrad2([[2, 0], [0, 0.5]])\n",
    "a = np.deg2rad(30)\n",
    "R = defgrad2([[np.cos(a), -np.sin(a)],\n",
    "              [np.sin(a), np.cos(a)]])\n",
    "F = R @ U\n",
    "print(F)"
   ]
  },
  {
   "cell_type": "markdown",
   "id": "2f08e285",
   "metadata": {},
   "source": [
    "The deformation gradient tensor can be equally-well decomposed into rotation multipled by stretch as:\n",
    "\n",
    "$$\\boldsymbol{F} = \\boldsymbol{V} \\cdot \\boldsymbol{R}$$\n",
    "\n",
    "where $\\boldsymbol{R}$ is the same **rotation matrix**, and $\\boldsymbol{V}$ is the **left stretch tensor**.\n",
    "\n",
    "The deformation gradient from above example could be decomposed as:\n",
    "\n",
    "$$\\boldsymbol{F} = \\begin{bmatrix} 1.732 & -0.25 \\\\ 1 & 0.433 \\end{bmatrix} \\approx\n",
    "\\begin{bmatrix} 1.625 & 0.65 \\\\ 0.65 & 0.875 \\end{bmatrix}\n",
    "\\begin{bmatrix} \\cos(30^\\circ) & -\\sin(30^\\circ) \\\\ \\sin(30^\\circ) & \\cos(30^\\circ) \\end{bmatrix}$$\n",
    "\n",
    "Such a partitioning of the **deformation gradient** into the product of a **rotation matrix** and **stretch tensor** is known as a **polar decomposition**.\n",
    "\n",
    "## Rotation matrix\n",
    "\n",
    "````{admonition} Derivation of 2D rotation matrix\n",
    ":class: tip\n",
    "```{image} figures/2drotation.png\n",
    ":alt: 2D rotation\n",
    ":class: bg-primary mb-1\n",
    ":width: 50%\n",
    ":align: center\n",
    "```\n",
    "\n",
    "In order to rotate unit vector $\\boldsymbol{\\hat{u}} = (u_1, u_2)$ to vector $\\boldsymbol{\\hat{v}} = (v_1, v_2)$ shown in figure, we can write following equations for $\\cos(\\alpha)$, $\\sin(\\alpha)$, $\\cos(\\alpha +\\beta )$ and $\\sin(\\alpha + \\beta)$:\n",
    "\n",
    "$$\\cos(\\alpha) = u_1\\text{, } \\sin(\\alpha) = u_2$$\n",
    "\n",
    "$$\\cos(\\alpha + \\beta) = v_1\\text{, } \\sin(\\alpha + \\beta) = v_2$$\n",
    "\n",
    "Substituting to the sum of angles trigonometric identities:\n",
    "\n",
    "$${\\color{red} \\cos(\\alpha +\\beta )}={\\color{red} \\cos \\alpha} \\cos \\beta - {\\color{red} \\sin \\alpha} \\sin \\beta$$\n",
    "\n",
    "$${\\color{red} \\sin(\\alpha +\\beta )}={\\color{red} \\cos \\alpha} \\sin \\beta + {\\color{red} \\sin \\alpha} \\cos \\beta$$\n",
    "\n",
    "we can write:\n",
    "\n",
    "$$v_1 = u_1 \\cos \\beta - u_2 \\sin \\beta$$\n",
    "\n",
    "$$v_2 = u_1 \\sin \\beta + u_2 \\cos \\beta$$\n",
    "\n",
    "or in matrix form\n",
    "\n",
    "$$\\begin{bmatrix}v_1 \\\\ v_2\\end{bmatrix} = \\begin{bmatrix} \\cos \\beta & -\\sin \\beta \\\\ \\sin \\beta & \\cos \\beta \\end{bmatrix} \\begin{bmatrix}u_1 \\\\ u_2\\end{bmatrix}$$\n",
    "\n",
    "or\n",
    "\n",
    "$$\\boldsymbol{\\hat{v}} = \\boldsymbol{R} \\cdot \\boldsymbol{\\hat{u}}$$\n",
    "````\n",
    "\n",
    "```{note}\n",
    "Rotation matrices are **square matrices**, with real entries. More specifically, they can be characterized as **orthogonal matrices** with determinant 1; that is, a square matrix $\\boldsymbol{R}$ is a rotation matrix if and only if $\\boldsymbol{R}^T = \\boldsymbol{R}^{-1}$ and $det(\\boldsymbol{R}) = \\left | \\boldsymbol{R} \\right | = 1$.\n",
    "```\n",
    "\n",
    "## Transformation of stretching tensors\n",
    "\n",
    "It is relatively easy to develop a relationship between **left stretch tensor** $\\boldsymbol{V}$ and **right stretch tensor** $\\boldsymbol{U}$. Since $\\boldsymbol{F} = \\boldsymbol{V} \\cdot \\boldsymbol{R}$ and $\\boldsymbol{F} = \\boldsymbol{R} \\cdot \\boldsymbol{U}$, then:\n",
    "\n",
    "$$\\boldsymbol{V} \\cdot \\boldsymbol{R} = \\boldsymbol{R} \\cdot \\boldsymbol{U}$$\n",
    "\n",
    "and post-multiplying through by $\\boldsymbol{R}^{T}$ gives \n",
    "\n",
    "$$\\boldsymbol{V} \\cdot \\boldsymbol{R} \\cdot \\boldsymbol{R}^{T} = \\boldsymbol{R} \\cdot \\boldsymbol{U} \\cdot \\boldsymbol{R}^{T}$$\n",
    "\n",
    "But since $\\boldsymbol{R} \\cdot \\boldsymbol{R}^{T} = \\boldsymbol{R} \\cdot \\boldsymbol{R}^{-1} = \\boldsymbol{I}$, this leaves \n",
    "\n",
    "$$\\boldsymbol{V} = \\boldsymbol{R} \\cdot \\boldsymbol{U} \\cdot \\boldsymbol{R}^{T}$$\n",
    "\n",
    "as the relationship between $\\boldsymbol{V}$ and $\\boldsymbol{U}$. Alternatively, solving for $\\boldsymbol{U}$ gives \n",
    "\n",
    "$$\\boldsymbol{U} = \\boldsymbol{R}^{T} \\cdot \\boldsymbol{V} \\cdot \\boldsymbol{R}$$"
   ]
  },
  {
   "cell_type": "code",
   "execution_count": null,
   "id": "2c2ccc40",
   "metadata": {},
   "outputs": [],
   "source": [
    "# Use above derived equation to calculate V\n",
    "V = R @ U @ R.T\n",
    "print(V)"
   ]
  },
  {
   "cell_type": "code",
   "execution_count": null,
   "id": "c575d984",
   "metadata": {},
   "outputs": [],
   "source": [
    "# Test equality of left and right polar decomposition\n",
    "V @ R == R @ U"
   ]
  },
  {
   "cell_type": "markdown",
   "id": "44eab4e0",
   "metadata": {},
   "source": [
    "## Singular value decomposition\n",
    "\n",
    "In linear algebra, the singular value decomposition (**SVD**) is a factorization of a real or complex matrix $\\boldsymbol{F} =\\boldsymbol{U} {\\boldsymbol {\\Sigma }}\\boldsymbol{V} ^{*}$. Thus the expression $\\boldsymbol{U} {\\boldsymbol {\\Sigma }}\\boldsymbol{V} ^{*}$ can be intuitively interpreted as a composition of three geometrical transformations:\n",
    " - **rotation or reflection**\n",
    " - **scaling**\n",
    " - and another **rotation or reflection**\n",
    "\n",
    "```{image} figures/svd_interpreted.png\n",
    ":alt: SVD interpreted\n",
    ":class: bg-primary mb-1\n",
    ":width: 75%\n",
    ":align: center\n",
    "```\n",
    "\n",
    "---\n",
    "\n",
    "Following code snippets demostrate SVD technique."
   ]
  },
  {
   "cell_type": "code",
   "execution_count": null,
   "id": "728a2131",
   "metadata": {},
   "outputs": [],
   "source": [
    "F = defgrad2([[1, 1], [0, 1]])  # deformation gradient\n",
    "plot_defgrad(F)"
   ]
  },
  {
   "cell_type": "markdown",
   "id": "a045362d",
   "metadata": {},
   "source": [
    "We can calculate singular value decomposition using `numpy.linalg.svd` function. Note that stretching tensor is returned as 1D array representing diagonal of stretching tensor:"
   ]
  },
  {
   "cell_type": "code",
   "execution_count": null,
   "id": "e49350a1",
   "metadata": {},
   "outputs": [],
   "source": [
    "U, s, V = np.linalg.svd(F)"
   ]
  },
  {
   "cell_type": "markdown",
   "id": "5d5e571d",
   "metadata": {},
   "source": [
    "We can visualize individual deformation components:"
   ]
  },
  {
   "cell_type": "code",
   "execution_count": null,
   "id": "7f9709ad",
   "metadata": {},
   "outputs": [],
   "source": [
    "fig, axs = plt.subplots(1, 3)\n",
    "plot_defgrad(V, ax=axs[0], title='First rotation')\n",
    "plot_defgrad(np.diag(s), ax=axs[1], title='Stretching')\n",
    "plot_defgrad(U, ax=axs[2], title='Second rotation')"
   ]
  },
  {
   "cell_type": "markdown",
   "id": "013d9e8c",
   "metadata": {},
   "source": [
    "In addition, we can use stretching tensor and second rotation matrix to calculate principal axes and orientation of strain ellipse:"
   ]
  },
  {
   "cell_type": "code",
   "execution_count": null,
   "id": "c880de9f",
   "metadata": {},
   "outputs": [],
   "source": [
    "# calculate axial ratio and orientation\n",
    "ar = s[0] / s[1]\n",
    "ori = np.degrees(np.arctan2(U[1, 0], U[0, 0]))\n",
    "print('Orientation:{:g} AR:{:g}'.format(ori, ar))"
   ]
  }
 ],
 "metadata": {
  "jupytext": {
   "text_representation": {
    "extension": ".md",
    "format_name": "myst",
    "format_version": 0.13,
    "jupytext_version": "1.14.0"
   }
  },
  "kernelspec": {
   "display_name": "Python 3 (ipykernel)",
   "language": "python",
   "name": "python3"
  },
  "language_info": {
   "codemirror_mode": {
    "name": "ipython",
    "version": 3
   },
   "file_extension": ".py",
   "mimetype": "text/x-python",
   "name": "python",
   "nbconvert_exporter": "python",
   "pygments_lexer": "ipython3",
   "version": "3.8.14"
  },
  "source_map": [
   14,
   20,
   28,
   31,
   49,
   56,
   133,
   139,
   142,
   162,
   165,
   169,
   171,
   175,
   180,
   184
  ]
 },
 "nbformat": 4,
 "nbformat_minor": 5
}