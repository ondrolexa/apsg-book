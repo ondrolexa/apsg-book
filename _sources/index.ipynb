{
 "cells": [
  {
   "cell_type": "markdown",
   "id": "75f33c95",
   "metadata": {},
   "source": [
    "# Foreword\n",
    "\n",
    "The power of linear algebra (also referred to as matrix algebra) as an\n",
    "analytical tool in science and engineering has long been accepted. The\n",
    "methods developed have been exploited with increasing frequency in\n",
    "recent years because of the ease of access to desktop computers.\n",
    "Geologists, traditionally slow in applying numerical methods to their\n",
    "subject have nonetheless made much progress in the application of these\n",
    "methods. Applications have covered the fields of structural geology;\n",
    "petrology (in particular metamorphic petrology); petroleum geology\n",
    "(well-log analysis); computer modelling and geostatistics.\n",
    "\n",
    "In structural geology the use of transformation matrices has found\n",
    "application in the analysis of strain, while in petrology the linear nature\n",
    "of chemical equations has been exploited allowing data to be manipulated\n",
    "according to systems of end-members, whether they be mineral species or\n",
    "oxides of their component elements. Elsewhere, as for example in studies\n",
    "of continental drift, transformations of co-ordinate systems based on\n",
    "traditional algebraic and trigonometrical methods have been rewritten in\n",
    "matrix form, simplifying calculations as well as aiding understanding.\n",
    "Linear algebra has proved to be a particularly powerful tool in multivariate\n",
    "statistics, which has led to its application in analysing multicomponent\n",
    "geochemical data, which is so readily available from modern analytical\n",
    "instruments.\n",
    "\n",
    "Many examples in this book using [APSG](https://github.com/ondrolexa/apsg)\n",
    "python package for structural geologists. It defines several new python\n",
    "classes to easily manage, analyze and visualize orientational structural\n",
    "geology data."
   ]
  },
  {
   "cell_type": "code",
   "execution_count": 1,
   "id": "cc5c198d",
   "metadata": {},
   "outputs": [],
   "source": [
    "from apsg import *"
   ]
  },
  {
   "cell_type": "markdown",
   "id": "2f844da0",
   "metadata": {},
   "source": [
    "```{tableofcontents}\n",
    "```"
   ]
  }
 ],
 "metadata": {
  "jupytext": {
   "text_representation": {
    "extension": ".md",
    "format_name": "myst",
    "format_version": 0.13,
    "jupytext_version": "1.14.0"
   }
  },
  "kernelspec": {
   "display_name": "Python 3 (ipykernel)",
   "language": "python",
   "name": "python3"
  },
  "language_info": {
   "codemirror_mode": {
    "name": "ipython",
    "version": 3
   },
   "file_extension": ".py",
   "mimetype": "text/x-python",
   "name": "python",
   "nbconvert_exporter": "python",
   "pygments_lexer": "ipython3",
   "version": "3.10.8"
  },
  "source_map": [
   12,
   44,
   46
  ]
 },
 "nbformat": 4,
 "nbformat_minor": 5
}