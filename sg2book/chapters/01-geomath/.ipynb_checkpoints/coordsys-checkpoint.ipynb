{
 "cells": [
  {
   "cell_type": "markdown",
   "id": "1361c24a-fd38-4050-a103-e262c5ca04f3",
   "metadata": {},
   "source": [
    "# Coordinate Systems"
   ]
  },
  {
   "cell_type": "markdown",
   "id": "11ef54a5-801b-4ae9-8b7e-09637796d090",
   "metadata": {},
   "source": [
    "When we use a compass to measure features of interest to the structural geologist, we are\n",
    "implicitly using a spherical coordinate system defined by the rotation axis and surface of the\n",
    "Earth. Even if the Earth is almost spherical body, it is commonly more convenient to do\n",
    "structural geology calculations in rectangular Cartesian coordinates.\n",
    "\n",
    "The axes of any graph have positive and negative directions and most of us are used to seeing\n",
    "two dimensional graphs where the horizontal axis X is positive to the right and the vertical Y\n",
    "axis is positive upwards. But, what happens if we add a third axis? How do we determine the\n",
    "positive direction for that axis?"
   ]
  },
  {
   "cell_type": "markdown",
   "id": "f029f5be-62db-4d13-8094-6ed08fa29f67",
   "metadata": {},
   "source": [
    "The three axes of a Cartesian coordinate system are commonly referred to as $X$, $Y$, and $Z$. We\n",
    "start out the same way here because that is most familiar, but when we start talking about\n",
    "coordinate systems more formally, we will switch to using $X_1$, $X_2$, and $X_3$, which are more\n",
    "convenient for numerical calculations in a computer."
   ]
  },
  {
   "cell_type": "markdown",
   "id": "a9b43dd9-af76-453e-98a4-9c6d371309fb",
   "metadata": {},
   "source": [
    "## Coordinate systems in geology"
   ]
  },
  {
   "cell_type": "markdown",
   "id": "7a78f43a-f977-4c6b-afb8-3b1b6257ee9c",
   "metadata": {},
   "source": [
    "The angles are measured positive in a direction from the $X$ axis towards the $Y$ axis, i.e., just\n",
    "the opposite of how angles are measured on a compass rose (clockwise from the top).\n",
    "\n",
    "Convention suggests that we should follow a right-handed naming convention:\n",
    "\n",
    "Right-hand rule indicates the direction of the coordinate axes. When you hold the thumb, index finger, and middle finger of your right hand so that they form three right angles, then the thumb symbolizes the $x$ axis, the index finger the $y$ axis, and the middle finger the $z$ axis.\n",
    "\n",
    "<div style=\"text-align: center;\">\n",
    "  <img src=\"figures/Right_hand_rule.png\" alt=\"Vector projection\" width=\"50%\"/>\n",
    "</div>\n",
    "\n",
    "If you hold you hand so that your thumb points in the positive direction of the first axis, your fingers should\n",
    "curl from the positive direction of the second axis toward the positive direction of the third.\n",
    "\n",
    "<div style=\"text-align: center;\">\n",
    "  <img src=\"figures/Left-Right.png\" alt=\"left-right-hand\" width=\"75%\"/>\n",
    "</div>\n",
    "\n",
    "The two systems are commonly adopted in geology, **East-North-Up (ENU)** and **North-East-\n",
    "Down (NED)** coordinate system.\n",
    "\n",
    "<div style=\"text-align: center;\">\n",
    "  <img src=\"figures/Geocoord_sytems.png\" alt=\"geo-coord-systems\" width=\"75%\"/>\n",
    "</div>\n",
    "\n",
    "Of course it is easy to change between the two coordinate systems: A point that has coordinates\n",
    "(100, 200, 350) in an ENU system would have coordinates (200, 100, and -350) in a NED system."
   ]
  }
 ],
 "metadata": {
  "kernelspec": {
   "display_name": "Python 3 (ipykernel)",
   "language": "python",
   "name": "python3"
  },
  "language_info": {
   "codemirror_mode": {
    "name": "ipython",
    "version": 3
   },
   "file_extension": ".py",
   "mimetype": "text/x-python",
   "name": "python",
   "nbconvert_exporter": "python",
   "pygments_lexer": "ipython3",
   "version": "3.10.6"
  }
 },
 "nbformat": 4,
 "nbformat_minor": 5
}
