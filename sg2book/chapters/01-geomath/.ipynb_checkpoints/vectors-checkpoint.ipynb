{
 "cells": [
  {
   "cell_type": "markdown",
   "id": "8e6b4ee2-9e9c-4638-8af9-cb38b8f04e66",
   "metadata": {},
   "source": [
    "# Vectors"
   ]
  },
  {
   "cell_type": "code",
   "execution_count": 1,
   "id": "e359ec9d-3207-46a1-bbe0-73fe0083c6d2",
   "metadata": {},
   "outputs": [],
   "source": [
    "import numpy as np"
   ]
  },
  {
   "cell_type": "markdown",
   "id": "4f6b96dc-8121-45d3-a5d4-34d85e8e468c",
   "metadata": {},
   "source": [
    "Most structural geology students have learned the basics of vectors in their math courses.\n",
    "We’ll first review those basic concepts and then put that knowledge to work because, as\n",
    "mentioned in the last chapter, most linear features that we might wish to measure in\n",
    "structural geology are vectors.\n",
    "\n",
    "Because structural geometry is three dimensional, all of our vectors will have three\n",
    "components. Each of the three numbers that define a vector refer to a specific coordinate axis:\n",
    "for example, $u_2$ (or $u_y$) is the value of our vector, $\\boldsymbol{u}$, projected onto the second axis of the\n",
    "coordinate system, $X_2$ or $Y$. In a **NED** coordinate system, $u_2$ is the projection of $\\boldsymbol{u}$ onto the\n",
    "East axis, but in an **ENU** coordinate system, $u_2$ is u projected onto the North axis. Therefore,\n",
    "the numbers that define a vector depend on the specific coordinate system. We write out\n",
    "vector as:\n",
    "\n",
    "$$\\bf{u}=\\begin{bmatrix} u_1 & u_2 & u_3 \\end{bmatrix} = \\begin{bmatrix} u_x & u_y & u_z \\end{bmatrix}$$"
   ]
  },
  {
   "cell_type": "code",
   "execution_count": 2,
   "id": "c47380c9-3cb3-4504-a3d1-3ae28564262b",
   "metadata": {},
   "outputs": [],
   "source": [
    "u = np.array([2, -1, 3])"
   ]
  },
  {
   "cell_type": "markdown",
   "id": "9e5735cc-1748-49df-a4a8-45934a55ff59",
   "metadata": {},
   "source": [
    "## Vector magnitude"
   ]
  },
  {
   "cell_type": "markdown",
   "id": "32c1266f-c565-4a4e-a52b-d577c4d7b5d0",
   "metadata": {},
   "source": [
    "One of the most fundamental characteristics of a vector is its length or**magnitude**. Magnitude is a scalar quantity because it has no directional significance and furthermore, it is the same in all coordinate systems. The magnitude is given by:\n",
    "\n",
    "$$\\left | \\boldsymbol{u} \\right |=\\sqrt{{u_1}^2+{u_2}^2+{u_3}^2}$$\n",
    "\n",
    "In two dimensions, you can see that the magnitude is calculated from the Pythagorean theorem which gives the length of a hypotenuse as the square root of the sum of the squares of the two sides. The extension to three dimensions is straightforward.\n",
    "\n",
    "<div style=\"text-align: center;\">\n",
    "  <img src=\"figures/Vec_magnitude.png\" alt=\"vector magnitude\" width=\"75%\"/>\n",
    "</div>"
   ]
  },
  {
   "cell_type": "code",
   "execution_count": 3,
   "id": "28c623aa-67d4-4193-b264-a7d53aa8a327",
   "metadata": {},
   "outputs": [
    {
     "data": {
      "text/plain": [
       "3.7416573867739413"
      ]
     },
     "execution_count": 3,
     "metadata": {},
     "output_type": "execute_result"
    }
   ],
   "source": [
    "np.linalg.norm(u)"
   ]
  },
  {
   "cell_type": "markdown",
   "id": "756cd1d4-5cad-4a76-a4b0-21ac58c37c91",
   "metadata": {},
   "source": [
    "## Unit vector"
   ]
  },
  {
   "cell_type": "markdown",
   "id": "4c912eea-3960-40d6-8c92-de693715abe3",
   "metadata": {},
   "source": [
    "<img align=\"right\" src=\"figures/3D_Vector.png\" alt=\"3D vector\" width=\"35%\"/>\n",
    "\n",
    "But, what if we don’t care about the magnitude? What if we are only interested in the orientation of our vector? It is convenient to represent direction by \\textbf{unit vector}, i.e. the vector with length of one.\n",
    "Any vector could be normalized to \\textbf{unit vector} by dividing each of it's components by its magnitude.\n",
    "\n",
    "$${\\boldsymbol{\\hat u}} = \\frac{{\\boldsymbol{u}}}{{\\left\\| {\\boldsymbol{u}} \\right\\|}} = {\\boldsymbol{i}}\\frac{{{u_1}}}{{\\left\\| {\\boldsymbol{u}} \\right\\|}} + {\\boldsymbol{j}}\\frac{{{u_2}}}{{\\left\\| {\\boldsymbol{u}} \\right\\|}} + {\\boldsymbol{k}}\\frac{{{u_3}}}{{\\left\\| {\\boldsymbol{u}} \\right\\|}}$$\n",
    "\n",
    "The projection of a unit vector onto a coordinate axis is just equal to the cosine of the angle that the vector makes with that axis.  Thus, the components of a unit vector are:\n",
    "\n",
    "$${\\boldsymbol{\\hat u}} = \\begin{bmatrix} \\cos (\\alpha ) & \\cos (\\beta ) & \\cos (\\gamma ) \\end{bmatrix}$$"
   ]
  },
  {
   "cell_type": "markdown",
   "id": "a864dee4-8835-45ff-ac80-88076501e429",
   "metadata": {},
   "source": [
    "## Vector addition, subtraction and scalar multiplication"
   ]
  },
  {
   "cell_type": "markdown",
   "id": "c5ac2203-c1e2-45af-8618-09e3efb063f7",
   "metadata": {},
   "source": [
    "Vector addition or subtraction from another is no more complicated than adding, or subtracting, the individual components:\n",
    "\n",
    "$$\\bf{u+v}=\\begin{bmatrix} u_1 & u_2 & u_3 \\end{bmatrix}+\\begin{bmatrix} v_1 & v_2 & v_3\\end{bmatrix}=\\begin{bmatrix} (u_1+v_1) & (u_2+v_2) & (u_3+v_3) \\end{bmatrix}$$\n",
    "\n",
    "And likewise\n",
    "$$\\bf{u-v}=\\begin{bmatrix} u_1 & u_2 & u_3 \\end{bmatrix}-\\begin{bmatrix} v_1 & v_2 & v_3\\end{bmatrix}=\\begin{bmatrix} (u_1-v_1) & (u_2-v_2) & (u_3-v_3) \\end{bmatrix}$$\n",
    "\n",
    "<div style=\"text-align: center;\">\n",
    "  <img src=\"figures/Vec_add_sub.png\" alt=\"Vector addition and subtraction\" width=\"75%\"/>\n",
    "</div>"
   ]
  },
  {
   "cell_type": "markdown",
   "id": "119a2b7f-270e-412a-9e55-9c8b218b51f7",
   "metadata": {},
   "source": [
    "## Dot product"
   ]
  },
  {
   "cell_type": "markdown",
   "id": "6c111f29-4ce6-49c8-8190-a2aa1fbd5688",
   "metadata": {},
   "source": [
    "**Dot product** or **scalar product** is an algebraic operation between two vectors. The dot product may be defined algebraically or geometrically. Conceptually, **dot product** can be thought of as multiplying the length of one vector by the *component of the other vector* which is parallel to the first:\n",
    "\n",
    "Geometrically, it is the product of the magnitudes of the two vectors and the cosine of the angle between them.\n",
    "\n",
    "$$\\mathbf u\\cdot\\mathbf v = \\|\\mathbf u\\|\\,\\|\\mathbf v\\|\\cos\\theta$$\n",
    "\n",
    "Algebraically, it is the sum of the products of the corresponding entries of the two sequences of numbers.\n",
    "\n",
    "$$\\mathbf{u}\\cdot \\mathbf{v} = \\sum_{i=1}^n u_iv_i = u_1v_1 + u_2v_2 + \\cdots + u_nv_n$$\n",
    "\n",
    "Two vectors are orthogonal if the dot product of those two vectors is equal to zero."
   ]
  },
  {
   "cell_type": "markdown",
   "id": "e288e6af-5d6e-4f9b-9fb9-9b2068285261",
   "metadata": {},
   "source": [
    "## Vector projection"
   ]
  },
  {
   "cell_type": "markdown",
   "id": "57b2de1f-94a1-4685-a962-a4a588629154",
   "metadata": {},
   "source": [
    "The**vector projection** of a vector $\\boldsymbol{u}$ on a nonzero vector $\\boldsymbol{v}$ (also known as the *vector component* of $\\boldsymbol{u}$ in the direction of $\\boldsymbol{u}$) is the orthogonal projection of $\\boldsymbol{u}$ onto a straight line parallel to $\\boldsymbol{v}$. It is a vector parallel to $\\boldsymbol{v}$, defined as:\n",
    "\n",
    "<img align=\"right\" src=\"figures/Dot_Product.png\" alt=\"Vector projection\" width=\"35%\"/>\n",
    "\n",
    "$$\\mathbf{u}_1 = u_1\\mathbf{\\hat v} = u_1\\frac {\\mathbf{v}} {\\|\\mathbf{v}\\|},$$\n",
    "\n",
    "where $u_1$ is **scalar projection**. Using definition of cosine in right-angled triangle and **dot product** definition, we can write:\n",
    "\n",
    "$$u_1 = \\|\\mathbf{u}\\| \\cos \\theta = \\frac {\\mathbf{u} \\cdot \\mathbf{v}} {\\|\\mathbf{v}\\| }$$\n",
    "\n",
    "Consequently,\n",
    "\n",
    "$$\\mathbf{u}_1 = u_1\\frac {\\mathbf{v}} {\\|\\mathbf{v}\\|} = \\frac {\\mathbf{u} \\cdot \\mathbf{v}} {\\|\\mathbf{v}\\| } \\frac {\\mathbf{v}} {\\|\\mathbf{v}\\|} = \\frac {\\mathbf{u} \\cdot \\mathbf{v}} {\\|\\mathbf{v}\\|^2}{\\mathbf{v}} = \\frac {\\mathbf{u} \\cdot \\mathbf{v}} {\\mathbf{v} \\cdot \\mathbf{v}}{\\mathbf{v}}$$"
   ]
  },
  {
   "cell_type": "markdown",
   "id": "94671308-9601-4193-ab7c-4a847e92b869",
   "metadata": {},
   "source": [
    "## Cross product"
   ]
  },
  {
   "cell_type": "markdown",
   "id": "1e87f56c-a7af-441b-a400-1eca26beb4a9",
   "metadata": {},
   "source": [
    "The **cross product** $\\boldsymbol{u} \\times \\boldsymbol{v}$ is defined as a vector that is perpendicular to both $\\boldsymbol{u}$ and $\\boldsymbol{v}$, with a direction given by the right-hand rule and a magnitude equal to the area of the parallelogram that the vectors span.\n",
    "\n",
    "<img align=\"right\" src=\"figures/Cross_product_vector.png\" alt=\"Vector projection\" width=\"25%\"/>\n",
    "\n",
    "The cross product is defined by the formula\n",
    "\n",
    "$$\\mathbf{u} \\times \\mathbf{v} = \\left\\| \\mathbf{u} \\right\\| \\left\\| \\mathbf{v} \\right\\| \\sin \\theta \\ \\mathbf{n}$$\n",
    "\n",
    "or in **matrix notation**\n",
    "\n",
    "$$\\boldsymbol{u\\times v}=\\begin{vmatrix} \\boldsymbol{i}&\\boldsymbol{j}&\\boldsymbol{k}\\\\ u_1&u_2&u_3\\\\ v_1&v_2&v_3\\\\ \\end{vmatrix}$$\n",
    "\n",
    "The cross product is *anticommutative*\n",
    "\n",
    "$$\\mathbf{u} \\times \\mathbf{v} = -(\\mathbf{v} \\times \\mathbf{u})$$"
   ]
  },
  {
   "cell_type": "markdown",
   "id": "f44e1be5-9785-444d-8d07-3ce6fd94b34a",
   "metadata": {},
   "source": [
    "## Vectors in geology"
   ]
  },
  {
   "cell_type": "markdown",
   "id": "1adad7de-89bf-418f-95ad-5ae5f42c8624",
   "metadata": {},
   "source": [
    "The compass measurements are commonly in **spherical coordinates** i.e. *azimuth* or *dip direction* ($\\theta$) and *dip* ($\\varphi$). To define 3D vector in Cartesian space, we use following transformations:\n",
    "\n",
    "<img align=\"right\" src=\"figures/Geo_coordinates_en.png\" alt=\"Vector projection\" width=\"50%\"/>\n",
    "\n",
    "Linear features (lines) are represented as vector:\n",
    "\n",
    "$$\\begin{eqnarray*}\n",
    "u_1&=&\\cos(\\theta)\\cos(\\varphi)\\\\\n",
    "u_2&=&\\sin(\\theta)\\cos(\\varphi)\\\\\n",
    "u_3&=&\\sin(\\varphi)\n",
    "\\end{eqnarray*}$$\n",
    "\n",
    "Planar features (planes) are represented by normal vector:\n",
    "\n",
    "$$\\begin{eqnarray*}\n",
    "p_1&=&-\\cos(\\theta)\\sin(\\varphi)\\\\\n",
    "p_2&=&-\\sin(\\theta)\\sin(\\varphi)\\\\\n",
    "p_3&=&\\cos(\\varphi)\n",
    "\\end{eqnarray*}$$"
   ]
  }
 ],
 "metadata": {
  "kernelspec": {
   "display_name": "Python 3 (ipykernel)",
   "language": "python",
   "name": "python3"
  },
  "language_info": {
   "codemirror_mode": {
    "name": "ipython",
    "version": 3
   },
   "file_extension": ".py",
   "mimetype": "text/x-python",
   "name": "python",
   "nbconvert_exporter": "python",
   "pygments_lexer": "ipython3",
   "version": "3.10.6"
  }
 },
 "nbformat": 4,
 "nbformat_minor": 5
}
